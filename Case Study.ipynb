{
 "cells": [
  {
   "cell_type": "code",
   "execution_count": 6,
   "metadata": {},
   "outputs": [
    {
     "data": {
      "image/png": "[encoded data removed]",
      "text/plain": [
       "<Figure size 432x288 with 1 Axes>"
      ]
     },
     "metadata": {
      "needs_background": "light"
     },
     "output_type": "display_data"
    },
    {
     "name": "stdout",
     "output_type": "stream",
     "text": [
      "Bangalore\n"
     ]
    }
   ],
   "source": [
    "# Your Friend has developed the Product and he wants to establish the product startup and he is searching for a perfect location where getting the investment has a high chance. But due to its financial restriction, he can choose only between three locations -  Bangalore, Mumbai, and NCR. As a friend, you want to help your friend deciding the location. NCR include Gurgaon, Noida and New Delhi. Find the location where the most number of funding is done. That means, find the location where startups has received funding maximum number of times. Plot the bar graph between location and number of funding. Take city name \"Delhi\" as \"New Delhi\". Check the case-sensitiveness of cities also. That means, at some place instead of \"Bangalore\", \"bangalore\" is given. Take city name as \"Bangalore\". For few startups multiple locations are given, one Indian and one Foreign. Consider the startup if any one of the city lies in given locations.\n",
    "\n",
    "import numpy as np\n",
    "import pandas as pd\n",
    "import csv\n",
    "import matplotlib.pyplot as plt\n",
    "\n",
    "data=pd.read_csv('startup_funding.csv')\n",
    "df=data.copy()\n",
    "df.drop(df.index[df.CityLocation.isnull()], inplace=True)\n",
    "df.reset_index(inplace=True, drop=True)\n",
    "df.loc[df.CityLocation=='bangalore','CityLocation']='Bangalore'\n",
    "df.loc[df.CityLocation=='Delhi', 'CityLocation']='New Delhi'\n",
    "\n",
    "city=df.CityLocation.values\n",
    "\n",
    "x=['Bangalore','Mumbai','Gurgaon','Noida', 'New Delhi']\n",
    "y=[]\n",
    "y.append(len(city[city=='Bangalore']))\n",
    "y.append(len(city[city=='Mumbai']))\n",
    "y.append(len(city[city=='Gurgaon']))\n",
    "y.append(len(city[city=='Noida']))\n",
    "y.append(len(city[city=='New Delhi']))\n",
    "\n",
    "np_x=np.array(x)\n",
    "np_y=np.array(y)\n",
    "\n",
    "plt.bar(x,y)\n",
    "plt.show()\n",
    "\n",
    "print(np_x[np_y.argmax()])"
   ]
  },
  {
   "cell_type": "code",
   "execution_count": 5,
   "metadata": {},
   "outputs": [
    {
     "name": "stdout",
     "output_type": "stream",
     "text": [
      "Sequoia Capital\n",
      "Accel Partners\n",
      "Kalaari Capital\n",
      "SAIF Partners\n",
      "Indian Angel Network\n"
     ]
    }
   ],
   "source": [
    "#Even after trying for so many times, your friend’s startup could not find the investment. So you decided to take this matter in your hand and try to find the list of investors who probably can invest in your friend’s startup. Your list will increase the chance of your friend startup getting some initial investment by contacting these investors. Find the top 5 investors who have invested maximum number of times (consider repeat investments in one company also). In a startup, multiple investors might have invested. So consider each investor for that startup. Ignore undisclosed investors.\n",
    "\n",
    "import numpy as np\n",
    "import pandas as pd\n",
    "import csv\n",
    "import matplotlib.pyplot as plt\n",
    "\n",
    "data=pd.read_csv('startup_funding.csv')\n",
    "df=data.copy()\n",
    "df.dropna(subset = [\"InvestorsName\"],inplace = True)\n",
    "investor=df.InvestorsName.values\n",
    "\n",
    "d = {}  \n",
    "for i in investor:\n",
    "    if \",\" in i:\n",
    "        for j in i.strip().split(','):\n",
    "            d[j.strip()] = d.get(j.strip(),0) + 1\n",
    "    else:\n",
    "        d[i.strip()] = d.get(i.strip(),0) + 1\n",
    "d1 = sorted(d, key=d.get , reverse=True)[0:5]\n",
    "\n",
    "for i in d1:\n",
    "    print(i)"
   ]
  },
  {
   "cell_type": "code",
   "execution_count": 6,
   "metadata": {},
   "outputs": [
    {
     "name": "stdout",
     "output_type": "stream",
     "text": [
      "Sequoia Capital\n",
      "Accel Partners\n",
      "Kalaari Capital\n",
      "Indian Angel Network\n",
      "Blume Ventures\n"
     ]
    }
   ],
   "source": [
    "# After re-analysing the dataset you found out that some investors have invested in the same startup at different number of funding rounds. So before finalising the previous list, you want to improvise it by finding the top 5 investors who have invested in different number of startups. This list will be more helpful than your previous list in finding the investment for your friend startup. Find the top 5 investors who have invested maximum number of times in different companies. That means, if one investor has invested multiple times in one startup, count one for that company. There are many errors in startup names. Ignore correcting all, just handle the important ones - Ola, Flipkart, Oyo and Paytm.\n",
    "\n",
    "import numpy as np\n",
    "import pandas as pd\n",
    "import csv\n",
    "import matplotlib.pyplot as plt\n",
    "\n",
    "data=pd.read_csv('startup_funding.csv')\n",
    "df=data.copy()\n",
    "df.dropna(subset = [\"StartupName\",\"InvestorsName\"],inplace = True)\n",
    "\n",
    "df[\"StartupName\"].replace(\"Flipkart.com\",\"Flipkart\",inplace = True)\n",
    "df[\"StartupName\"].replace(\"Ola Cabs\",\"Ola\",inplace = True)\n",
    "df[\"StartupName\"].replace(\"Olacabs\",\"Ola\",inplace = True)\n",
    "df[\"StartupName\"].replace(\"Oyorooms\",\"Oyo\",inplace = True)\n",
    "df[\"StartupName\"].replace(\"OyoRooms\",\"Oyo\",inplace = True)\n",
    "df[\"StartupName\"].replace(\"OYO Rooms\",\"Oyo\",inplace = True)\n",
    "df[\"StartupName\"].replace(\"Oyo Rooms\",\"Oyo\",inplace = True)\n",
    "df[\"StartupName\"].replace(\"Paytm Marketplace\",\"Paytm\",inplace = True)\n",
    "\n",
    "d = {}\n",
    "for i in df.index:\n",
    "    e = df[\"InvestorsName\"][i].strip()\n",
    "    if \",\" in e:\n",
    "        for j in e.strip().split(','):\n",
    "            if j.strip() in d:\n",
    "                d[j.strip()].add(df[\"StartupName\"][i].strip())\n",
    "            else:\n",
    "                s = set()\n",
    "                d[j.strip()] = s\n",
    "                d[j.strip()].add(df[\"StartupName\"][i].strip())\n",
    "    else:\n",
    "        a = e.strip()\n",
    "        if a in d: \n",
    "            d[a].add(df[\"StartupName\"][i].strip())\n",
    "        else:\n",
    "            s = set()\n",
    "            d[a] = s\n",
    "            d[a].add(df[\"StartupName\"][i].strip())\n",
    "            \n",
    "d1 = {}\n",
    "for i in d:\n",
    "    if i == \"\":\n",
    "        continue\n",
    "    d1[i] = len(d[i])\n",
    "    \n",
    "d2 = sorted(d1, key=d1.get , reverse=True)[0:5]\n",
    "\n",
    "for i in d2:\n",
    "    print(i)"
   ]
  },
  {
   "cell_type": "code",
   "execution_count": 7,
   "metadata": {},
   "outputs": [
    {
     "name": "stdout",
     "output_type": "stream",
     "text": [
      "Indian Angel Network\n",
      "Rajan Anandan\n",
      "LetsVenture\n",
      "Anupam Mittal\n",
      "Group of Angel Investors\n"
     ]
    }
   ],
   "source": [
    "# Even after putting so much effort in finding the probable investors, it didn't turn out to be helpful for your friend. So you went to your investor friend to understand the situation better and your investor friend explained to you about the different Investment Types and their features. This new information will be helpful in finding the right investor. Since your friend startup is at an early stage startup, the best-suited investment type would be - Seed Funding and Crowdfunding. Find the top 5 investors who have invested in a different number of startups and their investment type is Crowdfunding or Seed Funding. Correct spelling of investment types are - \"Private Equity\", \"Seed Funding\", \"Debt Funding\", and \"Crowd Funding\". Keep an eye for any spelling mistake. You can find this by printing unique values from this column. There are many errors in startup names. Ignore correcting all, just handle the important ones - Ola, Flipkart, Oyo and Paytm.\n",
    "\n",
    "import numpy as np\n",
    "import pandas as pd\n",
    "import csv\n",
    "import matplotlib.pyplot as plt\n",
    "\n",
    "data=pd.read_csv('startup_funding.csv')\n",
    "df=data.copy()\n",
    "\n",
    "df.dropna(subset = [\"InvestorsName\"],inplace = True)\n",
    "df[\"InvestorsName\"].replace(\"Undisclosed Investors\",\"\",inplace = True)\n",
    "df[\"InvestorsName\"].replace(\"Undisclosed investors\",\"\",inplace = True)\n",
    "\n",
    "df.loc[df.InvestmentType=='Crowd funding','InvestmentType']='Crowd Funding'\n",
    "df.loc[df.InvestmentType=='SeedFunding','InvestmentType']='Seed Funding'\n",
    "df.loc[df.InvestmentType=='PrivateEquity','InvestmentType']='Private Equity'\n",
    "\n",
    "df = df[(df[\"InvestmentType\"] == \"Seed Funding\") | (df[\"InvestmentType\"] == \"Crowd Funding\")]\n",
    "d = {}\n",
    "for i in df[\"InvestorsName\"].values:\n",
    "    if \",\" in i:\n",
    "        for j in i.strip().split(','):\n",
    "            d[j.strip()] = d.get(j.strip(),0) + 1\n",
    "    else:\n",
    "        d[i.strip()] = d.get(i.strip(),0) + 1\n",
    "        \n",
    "del d[\"\"]\n",
    "\n",
    "d1 = sorted(d, key=d.get , reverse=True)[0:5]\n",
    "for i in d1:\n",
    "    print(i)"
   ]
  },
  {
   "cell_type": "code",
   "execution_count": 8,
   "metadata": {},
   "outputs": [
    {
     "name": "stdout",
     "output_type": "stream",
     "text": [
      "Sequoia Capital\n",
      "Accel Partners\n",
      "Kalaari Capital\n",
      "SAIF Partners\n",
      "Blume Ventures\n"
     ]
    }
   ],
   "source": [
    "# Due to your immense help, your friend startup successfully got seed funding and it is on the operational mode. Now your friend wants to expand his startup and he is looking for new investors for his startup. Now you again come as a saviour to help your friend and want to create a list of probable new new investors. Before moving forward you remember your investor friend advice that finding the investors by analysing the investment type. Since your friend startup is not in early phase it is in growth stage so the best-suited investment type is Private Equity. Find the top 5 investors who have invested in a different number of startups and their investment type is Private Equity. Correct spelling of investment types are - \"Private Equity\", \"Seed Funding\", \"Debt Funding\", and \"Crowd Funding\". Keep an eye for any spelling mistake. You can find this by printing unique values from this column.There are many errors in startup names. Ignore correcting all, just handle the important ones - Ola, Flipkart, Oyo and Paytm.\n",
    "\n",
    "import pandas as pd\n",
    "import numpy as np\n",
    "import matplotlib.pyplot as plt\n",
    "data=pd.read_csv('startup_funding.csv')\n",
    "df=data.copy()\n",
    "df.dropna(subset = [\"InvestorsName\"],inplace = True)\n",
    "df[\"InvestorsName\"].replace(\"Undisclosed Investors\",\"\",inplace = True)\n",
    "df[\"InvestorsName\"].replace(\"Undisclosed investors\",\"\",inplace = True)\n",
    "df.loc[df.InvestmentType=='Crowd funding','InvestmentType']='Crowd Funding'\n",
    "df.loc[df.InvestmentType=='SeedFunding','InvestmentType']='Seed Funding'\n",
    "df.loc[df.InvestmentType=='PrivateEquity','InvestmentType']='Private Equity'\n",
    "df = df[(df[\"InvestmentType\"] == \"Private Equity\")]\n",
    "\n",
    "d = {}\n",
    "for i in df[\"InvestorsName\"].values:\n",
    "    if \",\" in i:\n",
    "        for j in i.strip().split(','):\n",
    "            d[j.strip()] = d.get(j.strip(),0) + 1\n",
    "    else:\n",
    "        d[i.strip()] = d.get(i.strip(),0) + 1\n",
    "        \n",
    "del d[\"\"]\n",
    "\n",
    "d1 = sorted(d, key=d.get , reverse=True)[0:5]\n",
    "for i in d1:\n",
    "    print(i)"
   ]
  }
 ],
 "metadata": {
  "kernelspec": {
   "display_name": "Python 3",
   "language": "python",
   "name": "python3"
  },
  "language_info": {
   "codemirror_mode": {
    "name": "ipython",
    "version": 3
   },
   "file_extension": ".py",
   "mimetype": "text/x-python",
   "name": "python",
   "nbconvert_exporter": "python",
   "pygments_lexer": "ipython3",
   "version": "3.8.5"
  }
 },
 "nbformat": 4,
 "nbformat_minor": 4
}
